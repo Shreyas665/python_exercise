{
 "cells": [
  {
   "cell_type": "code",
   "execution_count": 1,
   "id": "f5fd8244-b261-49d6-b4db-364403ade93e",
   "metadata": {},
   "outputs": [],
   "source": [
    "import pandas as pd"
   ]
  },
  {
   "cell_type": "code",
   "execution_count": 2,
   "id": "2ba48781-d517-4f1b-a5e3-41c6b41ba721",
   "metadata": {},
   "outputs": [
    {
     "data": {
      "text/html": [
       "<div>\n",
       "<style scoped>\n",
       "    .dataframe tbody tr th:only-of-type {\n",
       "        vertical-align: middle;\n",
       "    }\n",
       "\n",
       "    .dataframe tbody tr th {\n",
       "        vertical-align: top;\n",
       "    }\n",
       "\n",
       "    .dataframe thead th {\n",
       "        text-align: right;\n",
       "    }\n",
       "</style>\n",
       "<table border=\"1\" class=\"dataframe\">\n",
       "  <thead>\n",
       "    <tr style=\"text-align: right;\">\n",
       "      <th></th>\n",
       "      <th>ID</th>\n",
       "      <th>City</th>\n",
       "      <th>Location</th>\n",
       "      <th>PType</th>\n",
       "      <th>PPN</th>\n",
       "      <th>Nights</th>\n",
       "      <th>Beds</th>\n",
       "      <th>Baths</th>\n",
       "      <th>Reviews</th>\n",
       "      <th>Recent</th>\n",
       "    </tr>\n",
       "  </thead>\n",
       "  <tbody>\n",
       "    <tr>\n",
       "      <th>0</th>\n",
       "      <td>IND137</td>\n",
       "      <td>Mumbai</td>\n",
       "      <td>Unknown</td>\n",
       "      <td>Entire Home/Apartment</td>\n",
       "      <td>3200</td>\n",
       "      <td>2.000000</td>\n",
       "      <td>1</td>\n",
       "      <td>1</td>\n",
       "      <td>4.000000</td>\n",
       "      <td>2022-03-12</td>\n",
       "    </tr>\n",
       "    <tr>\n",
       "      <th>1</th>\n",
       "      <td>IND138</td>\n",
       "      <td>Bangalore</td>\n",
       "      <td>Indiranagar</td>\n",
       "      <td>Private Room</td>\n",
       "      <td>1800</td>\n",
       "      <td>1.959184</td>\n",
       "      <td>1</td>\n",
       "      <td>1</td>\n",
       "      <td>2.000000</td>\n",
       "      <td>2023-02-15</td>\n",
       "    </tr>\n",
       "    <tr>\n",
       "      <th>2</th>\n",
       "      <td>IND139</td>\n",
       "      <td>Delhi</td>\n",
       "      <td>Hauz Khas</td>\n",
       "      <td>Entire Home/Apartment</td>\n",
       "      <td>4200</td>\n",
       "      <td>3.000000</td>\n",
       "      <td>2</td>\n",
       "      <td>2</td>\n",
       "      <td>3.853659</td>\n",
       "      <td>2021-12-25</td>\n",
       "    </tr>\n",
       "    <tr>\n",
       "      <th>3</th>\n",
       "      <td>IND140</td>\n",
       "      <td>Chennai</td>\n",
       "      <td>Teynampet</td>\n",
       "      <td>Shared Room</td>\n",
       "      <td>1000</td>\n",
       "      <td>1.000000</td>\n",
       "      <td>2</td>\n",
       "      <td>1</td>\n",
       "      <td>1.000000</td>\n",
       "      <td>2022-05-05</td>\n",
       "    </tr>\n",
       "    <tr>\n",
       "      <th>4</th>\n",
       "      <td>IND141</td>\n",
       "      <td>Hyderabad</td>\n",
       "      <td>Jubilee Hills</td>\n",
       "      <td>Entire Home/Apartment</td>\n",
       "      <td>3800</td>\n",
       "      <td>3.000000</td>\n",
       "      <td>3</td>\n",
       "      <td>3</td>\n",
       "      <td>5.000000</td>\n",
       "      <td>2022-08-20</td>\n",
       "    </tr>\n",
       "  </tbody>\n",
       "</table>\n",
       "</div>"
      ],
      "text/plain": [
       "       ID       City      Location                   PType   PPN    Nights  \\\n",
       "0  IND137     Mumbai        Unknown  Entire Home/Apartment  3200  2.000000   \n",
       "1  IND138  Bangalore    Indiranagar           Private Room  1800  1.959184   \n",
       "2  IND139      Delhi      Hauz Khas  Entire Home/Apartment  4200  3.000000   \n",
       "3  IND140    Chennai      Teynampet            Shared Room  1000  1.000000   \n",
       "4  IND141  Hyderabad  Jubilee Hills  Entire Home/Apartment  3800  3.000000   \n",
       "\n",
       "   Beds  Baths   Reviews      Recent  \n",
       "0     1      1  4.000000  2022-03-12  \n",
       "1     1      1  2.000000  2023-02-15  \n",
       "2     2      2  3.853659  2021-12-25  \n",
       "3     2      1  1.000000  2022-05-05  \n",
       "4     3      3  5.000000  2022-08-20  "
      ]
     },
     "execution_count": 2,
     "metadata": {},
     "output_type": "execute_result"
    }
   ],
   "source": [
    "df = pd.read_excel('/home/nineleaps/Downloads/Python_Training/Cleaned.xlsx')\n",
    "df.head()\n"
   ]
  },
  {
   "cell_type": "code",
   "execution_count": 4,
   "id": "33efdc66-0b28-409d-952c-e6e4dd86c136",
   "metadata": {},
   "outputs": [
    {
     "data": {
      "text/plain": [
       "Beds\n",
       "1    1400.000000\n",
       "2    2172.727273\n",
       "3    4850.000000\n",
       "4    6916.666667\n",
       "5    8000.000000\n",
       "Name: PPN, dtype: float64"
      ]
     },
     "execution_count": 4,
     "metadata": {},
     "output_type": "execute_result"
    }
   ],
   "source": [
    "avg_ppn = df.groupby(\"Beds\")[\"PPN\"].mean()\n",
    "avg_ppn"
   ]
  },
  {
   "cell_type": "code",
   "execution_count": 5,
   "id": "d953cc8b-c213-4f0f-9d5c-3f041db9d509",
   "metadata": {},
   "outputs": [],
   "source": [
    "import matplotlib.pyplot as plt"
   ]
  },
  {
   "cell_type": "code",
   "execution_count": 6,
   "id": "9502d322-b6c3-4d98-9d97-09d0afb89fb1",
   "metadata": {},
   "outputs": [
    {
     "data": {
      "image/png": "[encoded data removed]",
      "text/plain": [
       "<Figure size 800x500 with 1 Axes>"
      ]
     },
     "metadata": {},
     "output_type": "display_data"
    }
   ],
   "source": [
    "plt.figure(figsize=(8, 5))\n",
    "plt.bar(avg_ppn.index, avg_ppn.values, color='blue')\n",
    "plt.xlabel(\"No_Of_Beds\")\n",
    "plt.ylabel(\"Avg_PPN\")\n",
    "plt.title(\"Average PPN for Bedroom Counts\");"
   ]
  },
  {
   "cell_type": "code",
   "execution_count": null,
   "id": "23ef76df-9ee3-44ff-ae61-e3e2dab43a7b",
   "metadata": {},
   "outputs": [],
   "source": []
  }
 ],
 "metadata": {
  "kernelspec": {
   "display_name": "Python 3 (ipykernel)",
   "language": "python",
   "name": "python3"
  },
  "language_info": {
   "codemirror_mode": {
    "name": "ipython",
    "version": 3
   },
   "file_extension": ".py",
   "mimetype": "text/x-python",
   "name": "python",
   "nbconvert_exporter": "python",
   "pygments_lexer": "ipython3",
   "version": "3.10.12"
  }
 },
 "nbformat": 4,
 "nbformat_minor": 5
}

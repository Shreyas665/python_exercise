{
 "cells": [
  {
   "cell_type": "code",
   "execution_count": 1,
   "id": "4d30a9f7-6221-4f74-b7cd-fa08a5980116",
   "metadata": {},
   "outputs": [
    {
     "name": "stdout",
     "output_type": "stream",
     "text": [
      "\n",
      "City: Mumbai\n",
      "Best type of Room based on Reviews: Entire Home/Apartment\n",
      "Cheapest Room: Type - Shared Room, Location - Ghatkopar, Price - 700\n",
      "Costliest Room: Type - Entire Home/Apartment, Location - Santacruz, Price - 7000\n",
      "Average Price Per Night: 3966.67\n"
     ]
    }
   ],
   "source": [
    "! python3 Q7_Scripy.py \"Mumbai\""
   ]
  },
  {
   "cell_type": "code",
   "execution_count": null,
   "id": "af74e3c1-3e83-4e9e-bf37-c5e5fc1e92f0",
   "metadata": {},
   "outputs": [],
   "source": []
  }
 ],
 "metadata": {
  "kernelspec": {
   "display_name": "Python 3 (ipykernel)",
   "language": "python",
   "name": "python3"
  },
  "language_info": {
   "codemirror_mode": {
    "name": "ipython",
    "version": 3
   },
   "file_extension": ".py",
   "mimetype": "text/x-python",
   "name": "python",
   "nbconvert_exporter": "python",
   "pygments_lexer": "ipython3",
   "version": "3.10.12"
  }
 },
 "nbformat": 4,
 "nbformat_minor": 5
}
